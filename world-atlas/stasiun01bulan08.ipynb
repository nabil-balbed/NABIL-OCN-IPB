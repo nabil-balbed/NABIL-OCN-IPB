{
 "cells": [
  {
   "cell_type": "code",
   "execution_count": 1,
   "metadata": {
    "scrolled": true
   },
   "outputs": [],
   "source": [
    "import numpy as np\n",
    "import matplotlib.pyplot as plt\n",
    "import gsw\n",
    "import oceans.sw_extras as swe"
   ]
  },
  {
   "cell_type": "code",
   "execution_count": 24,
   "metadata": {
    "scrolled": true
   },
   "outputs": [],
   "source": [
    "f = open('test01station01new.txt', 'r')\n",
    "data = np.genfromtxt(f, dtype=\"float\", delimiter='\\t',names=True)\n",
    "f.close()"
   ]
  },
  {
   "cell_type": "code",
   "execution_count": 25,
   "metadata": {},
   "outputs": [],
   "source": [
    "depth = data['depth']\n",
    "temp = data['temperature']\n",
    "sal = data['salinity']\n",
    "del(data)"
   ]
  },
  {
   "cell_type": "code",
   "execution_count": 26,
   "metadata": {},
   "outputs": [],
   "source": [
    "mins = np.floor(np.min(sal))\n",
    "maxs = np.ceil(np.max(sal))"
   ]
  },
  {
   "cell_type": "code",
   "execution_count": 100,
   "metadata": {
    "scrolled": true
   },
   "outputs": [
    {
     "data": {
      "image/png": "[encoded data removed]",
      "text/plain": [
       "<Figure size 648x432 with 2 Axes>"
      ]
     },
     "metadata": {
      "needs_background": "light"
     },
     "output_type": "display_data"
    }
   ],
   "source": [
    "fig1, (ax1, ax2) = plt.subplots(1,2,sharey=True,figsize=(9, 6))\n",
    "ax1.plot(temp,depth,'o--b')\n",
    "ax1.set_ylim(ax1.get_ylim()[::-1]) # reverse y axis and set limits\n",
    "ax1.set_xlabel('Temperature [$^\\circ$C]') # x axis label\n",
    "ax1.set_ylabel('Depth (m)') # y axis label\n",
    "ax1.xaxis.set_label_position('top') # move x axis label to top\n",
    "ax1.xaxis.set_ticks_position('top') # move x axis ticks to top\n",
    "\n",
    "ax2.plot(sal,depth,'o--r')\n",
    "ax2.set_xlabel('Salinity')\n",
    "ax2.set_xlim(mins,maxs) # set x axis limits\n",
    "ax2.xaxis.set_label_position('top')\n",
    "ax2.xaxis.set_ticks_position('top')\n",
    "ax2.yaxis.set_visible(False) # hide y axis for 2nd subplot\n",
    "\n",
    "plt.tight_layout()\n",
    "plt.savefig('D:/1WOA2018/brunt vaisalla/suhu_salin_08_11125_new.png',\n",
    "format='png', dpi=600, transparent=False)\n",
    "plt.show()"
   ]
  },
  {
   "cell_type": "code",
   "execution_count": 27,
   "metadata": {},
   "outputs": [],
   "source": [
    "sigma_theta = gsw.sigma0(sal, temp)"
   ]
  },
  {
   "cell_type": "code",
   "execution_count": 28,
   "metadata": {},
   "outputs": [
    {
     "data": {
      "text/plain": [
       "array([20.99483695, 21.01808359, 21.14055219, 21.21434286, 21.31741633,\n",
       "       21.3724419 , 21.46030079, 21.56424014, 21.68569062, 21.79611024,\n",
       "       21.9359453 , 22.08145162, 22.24928834, 22.42608058, 22.61542721,\n",
       "       22.8160711 , 22.95139955, 22.94652448, 23.1111148 , 23.43701885,\n",
       "       23.60235085, 24.46622435, 25.08902105, 25.50599987, 25.83907173,\n",
       "       26.0666994 , 26.15769513, 26.32667352, 26.5134511 , 26.60870871,\n",
       "       26.65741628, 26.71464405, 26.75837597, 26.79357501, 26.83266923,\n",
       "       26.8648411 , 26.89685391, 26.9455007 , 26.98333433, 27.02972781,\n",
       "       27.08456672, 27.11502062, 27.14832299, 27.17551629, 27.21086625,\n",
       "       27.22799308, 27.2582272 , 27.28094965, 27.30430489, 27.33180477,\n",
       "       27.35575334, 27.37049704, 27.39669567, 27.41691972, 27.43798298,\n",
       "       27.45786136, 27.47257421])"
      ]
     },
     "execution_count": 28,
     "metadata": {},
     "output_type": "execute_result"
    }
   ],
   "source": [
    "sigma_theta"
   ]
  },
  {
   "cell_type": "code",
   "execution_count": 29,
   "metadata": {},
   "outputs": [],
   "source": [
    "pressure = depth #diasumsikan depth dalam meter setara dengan dbar, kalo mau dihitung sendiri monggo\n",
    "stability = gsw.Nsquared(sal, temp, pressure, lat=None, axis=0)\n"
   ]
  },
  {
   "cell_type": "code",
   "execution_count": 30,
   "metadata": {},
   "outputs": [
    {
     "data": {
      "text/plain": [
       "(array([ 4.46223407e-05,  2.35057700e-04,  1.41646354e-04,  1.97848590e-04,\n",
       "         1.05655839e-04,  1.68746302e-04,  1.99669131e-04,  2.33307130e-04,\n",
       "         2.12159108e-04,  2.68718579e-04,  2.79666911e-04,  3.22748951e-04,\n",
       "         3.40008900e-04,  3.64297671e-04,  3.86090956e-04,  2.60395860e-04,\n",
       "        -9.57745155e-06,  3.17012621e-04,  6.28104563e-04,  3.18774987e-04,\n",
       "         3.34008144e-04,  2.41148788e-04,  1.62170819e-04,  1.29955044e-04,\n",
       "         8.87330341e-05,  3.57909398e-05,  6.65460051e-05,  7.39200677e-05,\n",
       "         3.76262627e-05,  1.95173930e-05,  2.28770008e-05,  1.76802881e-05,\n",
       "         1.44829737e-05,  1.59564893e-05,  1.34160721e-05,  1.29611431e-05,\n",
       "         1.02312284e-05,  8.23545590e-06,  9.84190081e-06,  1.19648281e-05,\n",
       "         6.83535792e-06,  7.56971249e-06,  6.32824254e-06,  7.99960615e-06,\n",
       "         4.23868723e-06,  7.03460596e-06,  5.36417039e-06,  5.59394535e-06,\n",
       "         6.26305312e-06,  5.45481365e-06,  3.68650285e-06,  5.62707563e-06,\n",
       "         4.65987592e-06,  4.92247853e-06,  4.65811043e-06,  3.94778434e-06]),\n",
       " array([   2.5,    7.5,   12.5,   17.5,   22.5,   27.5,   32.5,   37.5,\n",
       "          42.5,   47.5,   52.5,   57.5,   62.5,   67.5,   72.5,   77.5,\n",
       "          82.5,   87.5,   92.5,   97.5,  112.5,  137.5,  162.5,  187.5,\n",
       "         212.5,  237.5,  262.5,  287.5,  312.5,  337.5,  362.5,  387.5,\n",
       "         412.5,  437.5,  462.5,  487.5,  525. ,  575. ,  625. ,  675. ,\n",
       "         725. ,  775. ,  825. ,  875. ,  925. ,  975. , 1025. , 1075. ,\n",
       "        1125. , 1175. , 1225. , 1275. , 1325. , 1375. , 1425. , 1475. ]))"
      ]
     },
     "execution_count": 30,
     "metadata": {},
     "output_type": "execute_result"
    }
   ],
   "source": [
    "stability"
   ]
  },
  {
   "cell_type": "code",
   "execution_count": 31,
   "metadata": {},
   "outputs": [],
   "source": [
    "Freq = np.array([4.46223407e-05,  2.35057700e-04,  1.41646354e-04,  1.97848590e-04,\n",
    "         1.05655839e-04,  1.68746302e-04,  1.99669131e-04,  2.33307130e-04,\n",
    "         2.12159108e-04,  2.68718579e-04,  2.79666911e-04,  3.22748951e-04,\n",
    "         3.40008900e-04,  3.64297671e-04,  3.86090956e-04,  2.60395860e-04,\n",
    "        -9.57745155e-06,  3.17012621e-04,  6.28104563e-04,  3.18774987e-04,\n",
    "         3.34008144e-04,  2.41148788e-04,  1.62170819e-04,  1.29955044e-04,\n",
    "         8.87330341e-05,  3.57909398e-05,  6.65460051e-05,  7.39200677e-05,\n",
    "         3.76262627e-05,  1.95173930e-05,  2.28770008e-05,  1.76802881e-05,\n",
    "         1.44829737e-05,  1.59564893e-05,  1.34160721e-05,  1.29611431e-05,\n",
    "         1.02312284e-05,  8.23545590e-06,  9.84190081e-06,  1.19648281e-05,\n",
    "         6.83535792e-06,  7.56971249e-06,  6.32824254e-06,  7.99960615e-06,\n",
    "         4.23868723e-06,  7.03460596e-06,  5.36417039e-06,  5.59394535e-06,\n",
    "         6.26305312e-06,  5.45481365e-06,  3.68650285e-06,  5.62707563e-06,\n",
    "         4.65987592e-06,  4.92247853e-06,  4.65811043e-06,  3.94778434e-06])\n",
    "depth_sta2= np.array([2.5,    7.5,   12.5,   17.5,   22.5,   27.5,   32.5,   37.5, 42.5,   47.5,   52.5,   57.5,   62.5,   67.5,   72.5,   77.5,82.5,   87.5,   92.5,   97.5,  112.5,  137.5,  162.5,  187.5,212.5,  237.5,  262.5,  287.5,  312.5,  337.5,  362.5,  387.5, 412.5,  437.5,  462.5,  487.5,  525. ,  575. ,  625. ,  675. ,725. ,  775. ,  825. ,  875. ,  925. ,  975. , 1025. , 1075. , 1125. , 1175. , 1225. , 1275. , 1325. , 1375. , 1425. , 1475.])\n"
   ]
  },
  {
   "cell_type": "code",
   "execution_count": 33,
   "metadata": {},
   "outputs": [],
   "source": [
    "Nperhour = swe.cph ([4.46223407e-05,  2.35057700e-04,  1.41646354e-04,  1.97848590e-04,\n",
    "         1.05655839e-04,  1.68746302e-04,  1.99669131e-04,  2.33307130e-04,\n",
    "         2.12159108e-04,  2.68718579e-04,  2.79666911e-04,  3.22748951e-04,\n",
    "         3.40008900e-04,  3.64297671e-04,  3.86090956e-04,  2.60395860e-04,\n",
    "        -9.57745155e-06,  3.17012621e-04,  6.28104563e-04,  3.18774987e-04,\n",
    "         3.34008144e-04,  2.41148788e-04,  1.62170819e-04,  1.29955044e-04,\n",
    "         8.87330341e-05,  3.57909398e-05,  6.65460051e-05,  7.39200677e-05,\n",
    "         3.76262627e-05,  1.95173930e-05,  2.28770008e-05,  1.76802881e-05,\n",
    "         1.44829737e-05,  1.59564893e-05,  1.34160721e-05,  1.29611431e-05,\n",
    "         1.02312284e-05,  8.23545590e-06,  9.84190081e-06,  1.19648281e-05,\n",
    "         6.83535792e-06,  7.56971249e-06,  6.32824254e-06,  7.99960615e-06,\n",
    "         4.23868723e-06,  7.03460596e-06,  5.36417039e-06,  5.59394535e-06,\n",
    "         6.26305312e-06,  5.45481365e-06,  3.68650285e-06,  5.62707563e-06,\n",
    "         4.65987592e-06,  4.92247853e-06,  4.65811043e-06,  3.94778434e-06])"
   ]
  },
  {
   "cell_type": "code",
   "execution_count": null,
   "metadata": {},
   "outputs": [],
   "source": [
    "average = np.array ([1.913677764, 6.305855214, 7.801713894, 7.439110266, 6.974262512, 6.666117957, 7.769500077, 8.423862532,  8.5485524, 8.868905526, 9.487001534, 9.937511681, 10.429134, 10.75038241, 11.0969838, 10.25192903, 3.736269278, 4.214133932, 12.28045154, 12.29461007, 10.35052856, 9.684377818, 8.096924051, 6.914000123, 5.964377193, 4.412455207, 4.050847831, 4.800025985, 4.220322046, 3.022889335, 2.635846541, 2.574810523, 2.29482308, 2.234594901, 2.193670082, 2.080683177, 1.947709264, 1.73846211, 1.720858339, 1.889672578, 1.739921851, 1.53717781, 1.508858824, 1.530931007, 1.400069566, 1.349627983, 1.423327726, 1.341070791, 1.394510963, 1.386031749, 1.219134163, 1.229616866, 1.297984422, 1.254015683, 1.253898523, 1.187503391])"
   ]
  },
  {
   "cell_type": "code",
   "execution_count": 36,
   "metadata": {},
   "outputs": [
    {
     "ename": "NameError",
     "evalue": "name 'average' is not defined",
     "output_type": "error",
     "traceback": [
      "\u001b[1;31m---------------------------------------------------------------------------\u001b[0m",
      "\u001b[1;31mNameError\u001b[0m                                 Traceback (most recent call last)",
      "\u001b[1;32m<ipython-input-36-9cec3b21b55c>\u001b[0m in \u001b[0;36m<module>\u001b[1;34m\u001b[0m\n\u001b[0;32m      1\u001b[0m \u001b[0mfig\u001b[0m \u001b[1;33m=\u001b[0m \u001b[0mplt\u001b[0m\u001b[1;33m.\u001b[0m\u001b[0mfigure\u001b[0m\u001b[1;33m(\u001b[0m\u001b[0mfigsize\u001b[0m\u001b[1;33m=\u001b[0m\u001b[1;33m(\u001b[0m\u001b[1;36m6\u001b[0m\u001b[1;33m,\u001b[0m \u001b[1;36m9\u001b[0m\u001b[1;33m)\u001b[0m\u001b[1;33m)\u001b[0m\u001b[1;33m\u001b[0m\u001b[1;33m\u001b[0m\u001b[0m\n\u001b[1;32m----> 2\u001b[1;33m \u001b[0mplt\u001b[0m\u001b[1;33m.\u001b[0m\u001b[0mplot\u001b[0m\u001b[1;33m(\u001b[0m\u001b[0maverage\u001b[0m\u001b[1;33m,\u001b[0m\u001b[0mdepth_sta2\u001b[0m\u001b[1;33m,\u001b[0m\u001b[1;34m\"o--b\"\u001b[0m\u001b[1;33m,\u001b[0m\u001b[0mms\u001b[0m\u001b[1;33m=\u001b[0m\u001b[1;36m2\u001b[0m\u001b[1;33m)\u001b[0m\u001b[1;33m\u001b[0m\u001b[1;33m\u001b[0m\u001b[0m\n\u001b[0m\u001b[0;32m      3\u001b[0m \u001b[1;33m\u001b[0m\u001b[0m\n\u001b[0;32m      4\u001b[0m \u001b[0max\u001b[0m\u001b[1;33m=\u001b[0m\u001b[0mfig\u001b[0m\u001b[1;33m.\u001b[0m\u001b[0madd_subplot\u001b[0m\u001b[1;33m(\u001b[0m\u001b[1;36m111\u001b[0m\u001b[1;33m)\u001b[0m\u001b[1;33m\u001b[0m\u001b[1;33m\u001b[0m\u001b[0m\n\u001b[0;32m      5\u001b[0m \u001b[0max\u001b[0m\u001b[1;33m.\u001b[0m\u001b[0mset_ylim\u001b[0m\u001b[1;33m(\u001b[0m\u001b[0max\u001b[0m\u001b[1;33m.\u001b[0m\u001b[0mget_ylim\u001b[0m\u001b[1;33m(\u001b[0m\u001b[1;33m)\u001b[0m\u001b[1;33m[\u001b[0m\u001b[1;33m:\u001b[0m\u001b[1;33m:\u001b[0m\u001b[1;33m-\u001b[0m\u001b[1;36m1\u001b[0m\u001b[1;33m]\u001b[0m\u001b[1;33m)\u001b[0m\u001b[1;33m\u001b[0m\u001b[1;33m\u001b[0m\u001b[0m\n",
      "\u001b[1;31mNameError\u001b[0m: name 'average' is not defined"
     ]
    },
    {
     "data": {
      "text/plain": [
       "<Figure size 432x648 with 0 Axes>"
      ]
     },
     "metadata": {},
     "output_type": "display_data"
    }
   ],
   "source": [
    "fig = plt.figure(figsize=(6, 9))\n",
    "plt.plot(average,depth_sta2,\"o--b\",ms=2) \n",
    "\n",
    "ax=fig.add_subplot(111)\n",
    "ax.set_ylim(ax.get_ylim()[::-1])\n",
    "ax.set_xlabel('Brunt Vaisala Freq cph')\n",
    "ax.set_ylabel('Depth')\n",
    "plt.tight_layout()\n",
    "plt.savefig('D:/1WOA2018/brunt vaisalla/Brunt.png',\n",
    "format='png', dpi=600, transparent=False)\n",
    "plt.show()"
   ]
  },
  {
   "cell_type": "code",
   "execution_count": 35,
   "metadata": {},
   "outputs": [],
   "source": [
    "import numpy as np\n",
    "import pandas as pd\n",
    "from pandas import ExcelWriter\n",
    "import os\n",
    "os.chdir('D:/1WOA2018/brunt vaisalla/')\n",
    "dataset = pd.DataFrame({'depth':depth_sta2,'Ncph':Nperhour})\n",
    "xls_write = ExcelWriter('data.xls')\n",
    "dataset.to_excel(xls_write,'Sheet1',index=False)\n",
    "xls_write.save()\n",
    "xlsx_write = ExcelWriter('data_Brunt.xlsx')\n",
    "dataset.to_excel(xlsx_write,'Sheet1',index=False)\n",
    "xlsx_write.save()"
   ]
  },
  {
   "cell_type": "code",
   "execution_count": null,
   "metadata": {},
   "outputs": [],
   "source": [
    "import numpy as np\n",
    "import pandas as pd\n",
    "from pandas import ExcelWriter\n",
    "import os\n",
    "os.chdir('D:/1WOA2018/brunt vaisalla/')\n",
    "dataset = pd.DataFrame({'depth':depth,'Temp':temp,'sal':sal})\n",
    "xls_write = ExcelWriter('dataTS.xls')\n",
    "dataset.to_excel(xls_write,'Sheet1',index=False)\n",
    "xls_write.save()\n",
    "xlsx_write = ExcelWriter('dataTS.xlsx')\n",
    "dataset.to_excel(xlsx_write,'Sheet1',index=False)\n",
    "xlsx_write.save()"
   ]
  },
  {
   "cell_type": "code",
   "execution_count": null,
   "metadata": {},
   "outputs": [],
   "source": []
  }
 ],
 "metadata": {
  "kernelspec": {
   "display_name": "Python 3",
   "language": "python",
   "name": "python3"
  },
  "language_info": {
   "codemirror_mode": {
    "name": "ipython",
    "version": 3
   },
   "file_extension": ".py",
   "mimetype": "text/x-python",
   "name": "python",
   "nbconvert_exporter": "python",
   "pygments_lexer": "ipython3",
   "version": "3.8.3"
  }
 },
 "nbformat": 4,
 "nbformat_minor": 4
}
